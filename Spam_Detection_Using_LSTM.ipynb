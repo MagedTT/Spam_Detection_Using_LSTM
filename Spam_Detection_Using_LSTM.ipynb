{
 "cells": [
  {
   "cell_type": "code",
   "execution_count": 2,
   "id": "fa34848e-fb30-49fc-b77d-d5ddb2ab8f66",
   "metadata": {},
   "outputs": [],
   "source": [
    "import time\n",
    "import numpy as np\n",
    "import seaborn as sns\n",
    "import pandas as pd\n",
    "import matplotlib.pyplot as plt\n",
    "\n",
    "import torch\n",
    "import torchtext\n",
    "import torch.nn.functional as F\n",
    "from sklearn.model_selection import train_test_split\n",
    "from torch.utils.data import Dataset\n",
    "from torch.utils.data import DataLoader\n",
    "import torch.nn as nn\n",
    "import torch.optim as optim\n",
    "from torchtext.data.utils import get_tokenizer\n",
    "from torchtext.vocab import build_vocab_from_iterator"
   ]
  },
  {
   "cell_type": "markdown",
   "id": "e7cb43e2-67f0-43ff-8536-27c9ec753a04",
   "metadata": {},
   "source": [
    "### Setting up hyperparameters"
   ]
  },
  {
   "cell_type": "code",
   "execution_count": 3,
   "id": "d7b1652b-2784-4e68-bae9-6c06337ebeee",
   "metadata": {},
   "outputs": [],
   "source": [
    "num_epochs = 20\n",
    "batch_size = 512\n",
    "random_seed = 42\n",
    "embedding_dim = 64\n",
    "hidden_dim = 300\n",
    "num_classes = 2\n",
    "learning_rate = 0.005\n",
    "\n",
    "# device = torch.device('mps' if torch.backends.mps.is_available() else 'cpu')"
   ]
  },
  {
   "cell_type": "code",
   "execution_count": 4,
   "id": "5df100d5-6ce5-4692-8833-7f4814fde445",
   "metadata": {},
   "outputs": [],
   "source": [
    "np.random.seed(random_seed)\n",
    "torch.manual_seed(random_seed)\n",
    "torch.mps.manual_seed(random_seed)"
   ]
  },
  {
   "cell_type": "code",
   "execution_count": 5,
   "id": "3c630d26-9961-450f-82d5-c05804ecc950",
   "metadata": {
    "scrolled": true
   },
   "outputs": [
    {
     "data": {
      "text/html": [
       "<div>\n",
       "<style scoped>\n",
       "    .dataframe tbody tr th:only-of-type {\n",
       "        vertical-align: middle;\n",
       "    }\n",
       "\n",
       "    .dataframe tbody tr th {\n",
       "        vertical-align: top;\n",
       "    }\n",
       "\n",
       "    .dataframe thead th {\n",
       "        text-align: right;\n",
       "    }\n",
       "</style>\n",
       "<table border=\"1\" class=\"dataframe\">\n",
       "  <thead>\n",
       "    <tr style=\"text-align: right;\">\n",
       "      <th></th>\n",
       "      <th>v1</th>\n",
       "      <th>v2</th>\n",
       "      <th>Unnamed: 2</th>\n",
       "      <th>Unnamed: 3</th>\n",
       "      <th>Unnamed: 4</th>\n",
       "    </tr>\n",
       "  </thead>\n",
       "  <tbody>\n",
       "    <tr>\n",
       "      <th>0</th>\n",
       "      <td>ham</td>\n",
       "      <td>Go until jurong point, crazy.. Available only ...</td>\n",
       "      <td>NaN</td>\n",
       "      <td>NaN</td>\n",
       "      <td>NaN</td>\n",
       "    </tr>\n",
       "    <tr>\n",
       "      <th>1</th>\n",
       "      <td>ham</td>\n",
       "      <td>Ok lar... Joking wif u oni...</td>\n",
       "      <td>NaN</td>\n",
       "      <td>NaN</td>\n",
       "      <td>NaN</td>\n",
       "    </tr>\n",
       "    <tr>\n",
       "      <th>2</th>\n",
       "      <td>spam</td>\n",
       "      <td>Free entry in 2 a wkly comp to win FA Cup fina...</td>\n",
       "      <td>NaN</td>\n",
       "      <td>NaN</td>\n",
       "      <td>NaN</td>\n",
       "    </tr>\n",
       "    <tr>\n",
       "      <th>3</th>\n",
       "      <td>ham</td>\n",
       "      <td>U dun say so early hor... U c already then say...</td>\n",
       "      <td>NaN</td>\n",
       "      <td>NaN</td>\n",
       "      <td>NaN</td>\n",
       "    </tr>\n",
       "    <tr>\n",
       "      <th>4</th>\n",
       "      <td>ham</td>\n",
       "      <td>Nah I don't think he goes to usf, he lives aro...</td>\n",
       "      <td>NaN</td>\n",
       "      <td>NaN</td>\n",
       "      <td>NaN</td>\n",
       "    </tr>\n",
       "  </tbody>\n",
       "</table>\n",
       "</div>"
      ],
      "text/plain": [
       "     v1                                                 v2 Unnamed: 2  \\\n",
       "0   ham  Go until jurong point, crazy.. Available only ...        NaN   \n",
       "1   ham                      Ok lar... Joking wif u oni...        NaN   \n",
       "2  spam  Free entry in 2 a wkly comp to win FA Cup fina...        NaN   \n",
       "3   ham  U dun say so early hor... U c already then say...        NaN   \n",
       "4   ham  Nah I don't think he goes to usf, he lives aro...        NaN   \n",
       "\n",
       "  Unnamed: 3 Unnamed: 4  \n",
       "0        NaN        NaN  \n",
       "1        NaN        NaN  \n",
       "2        NaN        NaN  \n",
       "3        NaN        NaN  \n",
       "4        NaN        NaN  "
      ]
     },
     "execution_count": 5,
     "metadata": {},
     "output_type": "execute_result"
    }
   ],
   "source": [
    "df = pd.read_csv('spam.csv', encoding='ISO-8859-1')\n",
    "df.head()"
   ]
  },
  {
   "cell_type": "markdown",
   "id": "e10dfb64-f32d-4c5c-a74f-f40f0db69e30",
   "metadata": {},
   "source": [
    "### Deleting unneeded columns, renaming headers and maping labels to numbers"
   ]
  },
  {
   "cell_type": "code",
   "execution_count": 6,
   "id": "1f4d6948-70d5-49cb-bb64-e442afdb467b",
   "metadata": {},
   "outputs": [],
   "source": [
    "df.drop(columns=['Unnamed: 2', 'Unnamed: 3', 'Unnamed: 4'], inplace=True)\n",
    "df.columns = ['LABEL', 'TEXT']\n",
    "df['LABEL'] = df['LABEL'].map({'ham': 0, 'spam': 1})"
   ]
  },
  {
   "cell_type": "code",
   "execution_count": 7,
   "id": "888dbdd7-b477-431d-b398-393aaedf06b5",
   "metadata": {},
   "outputs": [
    {
     "data": {
      "text/html": [
       "<div>\n",
       "<style scoped>\n",
       "    .dataframe tbody tr th:only-of-type {\n",
       "        vertical-align: middle;\n",
       "    }\n",
       "\n",
       "    .dataframe tbody tr th {\n",
       "        vertical-align: top;\n",
       "    }\n",
       "\n",
       "    .dataframe thead th {\n",
       "        text-align: right;\n",
       "    }\n",
       "</style>\n",
       "<table border=\"1\" class=\"dataframe\">\n",
       "  <thead>\n",
       "    <tr style=\"text-align: right;\">\n",
       "      <th></th>\n",
       "      <th>LABEL</th>\n",
       "      <th>TEXT</th>\n",
       "    </tr>\n",
       "  </thead>\n",
       "  <tbody>\n",
       "    <tr>\n",
       "      <th>0</th>\n",
       "      <td>0</td>\n",
       "      <td>Go until jurong point, crazy.. Available only ...</td>\n",
       "    </tr>\n",
       "    <tr>\n",
       "      <th>1</th>\n",
       "      <td>0</td>\n",
       "      <td>Ok lar... Joking wif u oni...</td>\n",
       "    </tr>\n",
       "    <tr>\n",
       "      <th>2</th>\n",
       "      <td>1</td>\n",
       "      <td>Free entry in 2 a wkly comp to win FA Cup fina...</td>\n",
       "    </tr>\n",
       "    <tr>\n",
       "      <th>3</th>\n",
       "      <td>0</td>\n",
       "      <td>U dun say so early hor... U c already then say...</td>\n",
       "    </tr>\n",
       "    <tr>\n",
       "      <th>4</th>\n",
       "      <td>0</td>\n",
       "      <td>Nah I don't think he goes to usf, he lives aro...</td>\n",
       "    </tr>\n",
       "  </tbody>\n",
       "</table>\n",
       "</div>"
      ],
      "text/plain": [
       "   LABEL                                               TEXT\n",
       "0      0  Go until jurong point, crazy.. Available only ...\n",
       "1      0                      Ok lar... Joking wif u oni...\n",
       "2      1  Free entry in 2 a wkly comp to win FA Cup fina...\n",
       "3      0  U dun say so early hor... U c already then say...\n",
       "4      0  Nah I don't think he goes to usf, he lives aro..."
      ]
     },
     "execution_count": 7,
     "metadata": {},
     "output_type": "execute_result"
    }
   ],
   "source": [
    "df.head()"
   ]
  },
  {
   "cell_type": "markdown",
   "id": "17082df1-59c6-4054-8483-8b917a12d4a9",
   "metadata": {},
   "source": [
    "### Checking for null values"
   ]
  },
  {
   "cell_type": "code",
   "execution_count": 8,
   "id": "a025ea35-6cc1-46ef-9ada-0f53ed76df6a",
   "metadata": {},
   "outputs": [
    {
     "data": {
      "text/plain": [
       "LABEL    0\n",
       "TEXT     0\n",
       "dtype: int64"
      ]
     },
     "execution_count": 8,
     "metadata": {},
     "output_type": "execute_result"
    }
   ],
   "source": [
    "df.isnull().sum()"
   ]
  },
  {
   "cell_type": "markdown",
   "id": "94e93f6a-5db6-4b7a-9205-ac52514bacc1",
   "metadata": {},
   "source": [
    "### Checking if there's imbalance in the data"
   ]
  },
  {
   "cell_type": "code",
   "execution_count": 9,
   "id": "c46a04d5-960e-4721-a685-6b20abe6a269",
   "metadata": {},
   "outputs": [
    {
     "data": {
      "text/plain": [
       "LABEL\n",
       "0    4825\n",
       "1     747\n",
       "Name: count, dtype: int64"
      ]
     },
     "execution_count": 9,
     "metadata": {},
     "output_type": "execute_result"
    },
    {
     "data": {
      "image/png": "[encoded data removed]",
      "text/plain": [
       "<Figure size 640x480 with 1 Axes>"
      ]
     },
     "metadata": {},
     "output_type": "display_data"
    }
   ],
   "source": [
    "sns.countplot(data=df, x='LABEL')\n",
    "df['LABEL'].value_counts()"
   ]
  },
  {
   "cell_type": "markdown",
   "id": "4d4fdd5d-817b-4103-ac73-ff4ccc8d7ab3",
   "metadata": {},
   "source": [
    "### I'll use stratied sampling to preserve the retio of the class labels"
   ]
  },
  {
   "cell_type": "code",
   "execution_count": 10,
   "id": "1acedc0f-b763-4288-8aa2-d3cf8f7bf779",
   "metadata": {},
   "outputs": [],
   "source": [
    "X = df['TEXT']\n",
    "y = df['LABEL']\n",
    "train_texts, test_texts, train_labels, test_labels = train_test_split(X, y, test_size=0.2, shuffle=True, stratify=y)"
   ]
  },
  {
   "cell_type": "markdown",
   "id": "e492e0f6-d216-4171-b522-d548748ef6ce",
   "metadata": {},
   "source": [
    "### Let's deal with the imbalance using class weights"
   ]
  },
  {
   "cell_type": "code",
   "execution_count": 11,
   "id": "b87936c0-77e2-42d2-a765-3923b1e05566",
   "metadata": {},
   "outputs": [],
   "source": [
    "def calculate_class_weights(classes):\n",
    "    num_classes = classes.nunique()\n",
    "    num_examples = classes.shape[0]\n",
    "    counts = classes.value_counts().tolist()\n",
    "    class_weights = [num_examples / (freq * num_classes) for freq in counts]\n",
    "    class_weights = torch.tensor(class_weights)\n",
    "    return class_weights\n",
    "\n",
    "class_weights = calculate_class_weights(train_labels)"
   ]
  },
  {
   "cell_type": "markdown",
   "id": "a952cc52-3844-418b-bcab-5aa81bfdbdf6",
   "metadata": {},
   "source": [
    "### Specifing the tokenizer and building the vocabulary from the training data to prevent data leakage"
   ]
  },
  {
   "cell_type": "code",
   "execution_count": 12,
   "id": "3c9497bd-d223-44e4-8258-acfc022e4b04",
   "metadata": {},
   "outputs": [
    {
     "data": {
      "text/plain": [
       "10223"
      ]
     },
     "execution_count": 12,
     "metadata": {},
     "output_type": "execute_result"
    }
   ],
   "source": [
    "tokenizer = get_tokenizer('spacy', language='en_core_web_sm')\n",
    "\n",
    "def yield_tokens(texts):\n",
    "    for text in texts:\n",
    "        yield tokenizer(text)\n",
    "\n",
    "vocab = build_vocab_from_iterator(yield_tokens(train_texts), specials=['<unk>'])\n",
    "vocab.set_default_index(vocab['<unk>'])\n",
    "len(vocab)"
   ]
  },
  {
   "cell_type": "markdown",
   "id": "f579c5fd-e5d7-45d7-a3e3-81a406dfffc3",
   "metadata": {},
   "source": [
    "### Building our dataset to pass to the dataloader"
   ]
  },
  {
   "cell_type": "code",
   "execution_count": 13,
   "id": "b7ec1fe5-65b0-454a-96e2-fe65c6642fb5",
   "metadata": {},
   "outputs": [],
   "source": [
    "class MyDataset(Dataset):\n",
    "    def __init__(self, texts, labels, vocab, tokenizer):\n",
    "        self.texts = texts\n",
    "        self.labels = labels\n",
    "        self.vocab = vocab\n",
    "        self.tokenizer = tokenizer\n",
    "\n",
    "    def __getitem__(self, idx):\n",
    "        text = self.texts.iloc[idx]\n",
    "        label = self.labels.iloc[idx]\n",
    "        text = self.tokenizer(text)\n",
    "        text = self.vocab(text)\n",
    "        text = torch.tensor(text, dtype=torch.long)\n",
    "        torch.tensor(label, dtype=torch.long)\n",
    "        return text, label\n",
    "\n",
    "    def __len__(self):\n",
    "        return len(self.texts)"
   ]
  },
  {
   "cell_type": "code",
   "execution_count": 14,
   "id": "85759933-36ce-4419-a7d0-7cb7727ccc6b",
   "metadata": {},
   "outputs": [],
   "source": [
    "train_data = MyDataset(train_texts, train_labels, vocab, tokenizer)\n",
    "test_data = MyDataset(test_texts, test_labels, vocab, tokenizer)"
   ]
  },
  {
   "cell_type": "markdown",
   "id": "430d3bd0-58ab-4928-a665-68d3b43aca82",
   "metadata": {},
   "source": [
    "#### creating the collate function ourselves to fix the sequence length accross the batches"
   ]
  },
  {
   "cell_type": "code",
   "execution_count": 15,
   "id": "2702f9c2-fab2-43f9-89f6-2dd0e4355077",
   "metadata": {},
   "outputs": [],
   "source": [
    "def collate(batch):\n",
    "    labels = torch.tensor([i[1] for i in batch], dtype=torch.long)\n",
    "    texts = [i[0] for i in batch]\n",
    "    text_lengths = torch.tensor([len(t) for t in texts])\n",
    "    texts = nn.utils.rnn.pad_sequence(texts, batch_first=True, padding_value=0)\n",
    "    return texts, text_lengths, labels\n",
    "\n",
    "train_loader = DataLoader(train_data, batch_size=batch_size, shuffle=True, collate_fn=collate)\n",
    "test_loader = DataLoader(test_data, batch_size=batch_size, collate_fn=collate)"
   ]
  },
  {
   "cell_type": "markdown",
   "id": "85c64c64-5eac-451b-ae64-ba28c3562f17",
   "metadata": {},
   "source": [
    "#### Now, we build the model class and we're gonna be using 2 stacked LSTMs, unidirectional"
   ]
  },
  {
   "cell_type": "code",
   "execution_count": 16,
   "id": "853b1d9b-f67d-440b-bd02-16af49281ec8",
   "metadata": {},
   "outputs": [],
   "source": [
    "class LSTM_MODEL(nn.Module):\n",
    "    def __init__(self, vocab_size, embed_dim, hidden_dim, num_classes=2, num_layers=2):\n",
    "        super().__init__()\n",
    "        \n",
    "        self.embedding = nn.Embedding(vocab_size, embed_dim)\n",
    "        \n",
    "        self.lstm = nn.LSTM(input_size=embed_dim,\n",
    "                            hidden_size=hidden_dim,\n",
    "                            num_layers=num_layers,\n",
    "                            batch_first=True)\n",
    "        \n",
    "        self.fc = nn.Linear(hidden_dim, num_classes)\n",
    "\n",
    "    def forward(self, text, lengths):\n",
    "        embedded = self.embedding(text)\n",
    "        \n",
    "        packed_embedded = nn.utils.rnn.pack_padded_sequence(embedded,\n",
    "                                                            lengths,\n",
    "                                                            batch_first=True,\n",
    "                                                            enforce_sorted=False)\n",
    "        \n",
    "        packed_output, (hidden, _) = self.lstm(packed_embedded)\n",
    "        \n",
    "        output, output_lengths = nn.utils.rnn.pad_packed_sequence(packed_output, batch_first=True)\n",
    "        \n",
    "        hidden = hidden[-1]\n",
    "        return self.fc(hidden)"
   ]
  },
  {
   "cell_type": "markdown",
   "id": "bea9b354-9200-4152-8db7-3988944a7794",
   "metadata": {},
   "source": [
    "### Initializing the model, loss function and the optimizer"
   ]
  },
  {
   "cell_type": "code",
   "execution_count": 17,
   "id": "5a3feff3-7ec2-4826-b5b3-2be04cf671f8",
   "metadata": {},
   "outputs": [],
   "source": [
    "model = LSTM_MODEL(len(vocab), embedding_dim, hidden_dim)\n",
    "\n",
    "loss_fn = nn.CrossEntropyLoss(weight=class_weights)\n",
    "optimizer = optim.Adam(model.parameters(), lr=0.001)"
   ]
  },
  {
   "cell_type": "markdown",
   "id": "5fe8fad1-ef68-4237-9c28-6ee3b867606e",
   "metadata": {},
   "source": [
    "# Training"
   ]
  },
  {
   "cell_type": "code",
   "execution_count": 18,
   "id": "17ac1938-44a6-44c6-adcc-1c63184a77a9",
   "metadata": {},
   "outputs": [
    {
     "name": "stdout",
     "output_type": "stream",
     "text": [
      "Epoch: 1/20 | Loss: 5.3282\n",
      "Epoch: 2/20 | Loss: 2.7201\n",
      "Epoch: 3/20 | Loss: 1.9023\n",
      "Epoch: 4/20 | Loss: 1.3517\n",
      "Epoch: 5/20 | Loss: 1.0362\n",
      "Epoch: 6/20 | Loss: 0.8061\n",
      "Epoch: 7/20 | Loss: 0.6102\n",
      "Epoch: 8/20 | Loss: 0.4673\n",
      "Epoch: 9/20 | Loss: 0.3630\n",
      "Epoch: 10/20 | Loss: 0.3302\n",
      "Epoch: 11/20 | Loss: 0.2424\n",
      "Epoch: 12/20 | Loss: 0.1570\n",
      "Epoch: 13/20 | Loss: 0.0891\n",
      "Epoch: 14/20 | Loss: 0.0606\n",
      "Epoch: 15/20 | Loss: 0.0264\n",
      "Epoch: 16/20 | Loss: 0.0219\n",
      "Epoch: 17/20 | Loss: 0.0159\n",
      "Epoch: 18/20 | Loss: 0.0128\n",
      "Epoch: 19/20 | Loss: 0.0132\n",
      "Epoch: 20/20 | Loss: 0.0085\n"
     ]
    }
   ],
   "source": [
    "model.train()\n",
    "for epoch in range(num_epochs):\n",
    "    total_loss = 0\n",
    "    for texts, lengths, labels in train_loader:\n",
    "        optimizer.zero_grad()\n",
    "        logits = model(texts, lengths)\n",
    "        loss = loss_fn(logits, labels)\n",
    "        loss.backward()\n",
    "        optimizer.step()\n",
    "        total_loss += loss.item()\n",
    "    print(f'Epoch: {epoch+1}/{num_epochs} | Loss: {total_loss:.4f}')"
   ]
  },
  {
   "cell_type": "markdown",
   "id": "0fe1852a-645d-4a1c-adeb-6a54b8d9a2ff",
   "metadata": {},
   "source": [
    "# Evaluation"
   ]
  },
  {
   "cell_type": "code",
   "execution_count": 19,
   "id": "622ddb33-8a4b-4cce-98fa-007adaf8a19b",
   "metadata": {},
   "outputs": [
    {
     "name": "stdout",
     "output_type": "stream",
     "text": [
      "Accuracy: 97.31%\n"
     ]
    }
   ],
   "source": [
    "model.eval()\n",
    "num_correct_predictions, num_examples = 0, 0\n",
    "with torch.no_grad():\n",
    "    for texts, lengths, labels in test_loader:\n",
    "        outputs = model(texts, lengths)\n",
    "        predictions = outputs.argmax(dim=1)\n",
    "        num_examples += labels.size(0)\n",
    "        num_correct_predictions += (predictions == labels).sum().item()\n",
    "print(f\"Accuracy: {(num_correct_predictions / num_examples) * 100:.2f}%\")"
   ]
  },
  {
   "cell_type": "markdown",
   "id": "52f95606-48cb-4dc9-9c0d-d094618e10dd",
   "metadata": {},
   "source": [
    "### Now, we save the model"
   ]
  },
  {
   "cell_type": "code",
   "execution_count": 21,
   "id": "c9883a5c-761e-472b-bc90-5c6efffff896",
   "metadata": {},
   "outputs": [],
   "source": [
    "torch.save(model.state_dict(), 'saved_spam_detection/model_saved_spam_detection.pt')\n",
    "torch.save(optimizer.state_dict(), 'saved_spam_detection/optimizer_saved_spam_detection.pt')"
   ]
  },
  {
   "cell_type": "markdown",
   "id": "313ac38a-bdc3-4655-98a3-8b58caf79ff7",
   "metadata": {},
   "source": [
    "#### Prediction funtion: it'll output the predicted class label with a probability associated with it."
   ]
  },
  {
   "cell_type": "code",
   "execution_count": 22,
   "id": "cc9ef208-ad22-41eb-ad80-250d28c426c8",
   "metadata": {},
   "outputs": [],
   "source": [
    "def predict_sentiment(text, model, tokenizer, vocab):\n",
    "    tokens = tokenizer(text)\n",
    "    stoi = vocab.lookup_indices(tokens)\n",
    "    length = torch.LongTensor([len(stoi)])\n",
    "    tensor = torch.LongTensor(stoi).unsqueeze(dim=0)\n",
    "    prediction = model(tensor, length).squeeze(dim=0)\n",
    "    probability = torch.softmax(prediction, dim=-1)\n",
    "    predicted_class = prediction.argmax(dim=-1).item()\n",
    "    predicted_probability = probability[predicted_class].item()\n",
    "    return predicted_class, predicted_probability"
   ]
  },
  {
   "cell_type": "markdown",
   "id": "643cdb95-3b56-4139-9a86-8f95f6ebb27e",
   "metadata": {},
   "source": [
    "### Picking 20 sentences with label 1 from test data to check whether the model is able to deal with imbalance"
   ]
  },
  {
   "cell_type": "code",
   "execution_count": 23,
   "id": "25fdf184-937e-4961-9e0f-74bb5f4cf561",
   "metadata": {
    "scrolled": true
   },
   "outputs": [],
   "source": [
    "ones = []\n",
    "for idx, value in enumerate(test_labels):\n",
    "    if value == 1:\n",
    "        ones.append(idx)\n",
    "    if len(ones) == 20:\n",
    "        break"
   ]
  },
  {
   "cell_type": "code",
   "execution_count": 24,
   "id": "7a5a4ae4-0629-4871-9097-e922296ddc0d",
   "metadata": {},
   "outputs": [
    {
     "name": "stdout",
     "output_type": "stream",
     "text": [
      "(1, 0.9999902248382568)\n",
      "(1, 0.9980766773223877)\n",
      "(1, 0.9999988079071045)\n",
      "(1, 0.9996176958084106)\n",
      "(0, 0.9919806718826294)\n",
      "(1, 0.9999994039535522)\n",
      "(1, 0.9999988079071045)\n",
      "(1, 0.9999991655349731)\n",
      "(1, 0.9999996423721313)\n",
      "(1, 0.9999995231628418)\n",
      "(1, 0.9996552467346191)\n",
      "(1, 0.9999786615371704)\n",
      "(0, 0.9998904466629028)\n",
      "(1, 0.9999886751174927)\n",
      "(1, 0.9999951124191284)\n",
      "(1, 0.999992847442627)\n",
      "(1, 0.9999563694000244)\n",
      "(1, 0.8232138752937317)\n",
      "(1, 0.9999979734420776)\n",
      "(0, 0.987557053565979)\n"
     ]
    }
   ],
   "source": [
    "for idx in ones:\n",
    "    print(predict_sentiment(test_texts.iloc[idx], model, tokenizer, vocab))"
   ]
  }
 ],
 "metadata": {
  "kernelspec": {
   "display_name": "nlp_env",
   "language": "python",
   "name": "nlp_env"
  },
  "language_info": {
   "codemirror_mode": {
    "name": "ipython",
    "version": 3
   },
   "file_extension": ".py",
   "mimetype": "text/x-python",
   "name": "python",
   "nbconvert_exporter": "python",
   "pygments_lexer": "ipython3",
   "version": "3.9.20"
  }
 },
 "nbformat": 4,
 "nbformat_minor": 5
}
